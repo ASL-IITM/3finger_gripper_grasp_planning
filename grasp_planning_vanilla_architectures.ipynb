{
  "nbformat": 4,
  "nbformat_minor": 0,
  "metadata": {
    "colab": {
      "provenance": [],
      "mount_file_id": "https://github.com/BijoSebastian/grasp_it_repo/blob/main/grasp_planning_vanilla_architectures.ipynb",
      "authorship_tag": "ABX9TyO1ql+X1J2Xyy56LeqEVLsQ",
      "include_colab_link": true
    },
    "kernelspec": {
      "name": "python3",
      "display_name": "Python 3"
    },
    "language_info": {
      "name": "python"
    }
  },
  "cells": [
    {
      "cell_type": "markdown",
      "metadata": {
        "id": "view-in-github",
        "colab_type": "text"
      },
      "source": [
        "<a href=\"https://colab.research.google.com/github/BijoSebastian/grasp_it_repo/blob/main/grasp_planning_vanilla_architectures.ipynb\" target=\"_parent\"><img src=\"https://colab.research.google.com/assets/colab-badge.svg\" alt=\"Open In Colab\"/></a>"
      ]
    },
    {
      "cell_type": "markdown",
      "source": [
        "#Applying Vanilla CNN, VGG-16, ResNet, InceptionNet(ViT if possible)\n",
        "1. Dataloader:(Used this [tutorial](https://pytorch.org/tutorials/beginner/basics/data_tutorial.html))\n",
        "*   Add all four channels of image into 1 RGBD image.\n",
        "*   Get position and orientation from csv file and try to add it in one dataloader or figure out some other way.\n",
        "\n",
        "2. Currently predicting only position and orientation of the gripper:\n",
        "*  Loss function for orientation to be quaternions is custom made.\n",
        "*  Total loss= (loss1)X(0.5) + (loss2)X(0.5)"
      ],
      "metadata": {
        "id": "dwQjsF3USsDh"
      }
    },
    {
      "cell_type": "code",
      "execution_count": 1,
      "metadata": {
        "id": "CyM2W-N9R7F2",
        "colab": {
          "base_uri": "https://localhost:8080/"
        },
        "outputId": "ecac3e31-a7fe-4bdb-a049-cbea4d914b70"
      },
      "outputs": [
        {
          "output_type": "stream",
          "name": "stdout",
          "text": [
            "Length of val dataset loader:143\n",
            "torch.Size([16, 4, 512, 512])\n",
            "torch.Size([16, 5, 3])\n",
            "torch.Size([16, 5, 4])\n"
          ]
        }
      ],
      "source": [
        "#CustomDataLoader\n",
        "\n",
        "import os\n",
        "from PIL import Image\n",
        "import torch\n",
        "from torch.utils.data import Dataset, DataLoader\n",
        "from torchvision import transforms\n",
        "import numpy as np\n",
        "import pandas as pd\n",
        "\n",
        "# Define custom dataset class\n",
        "class RGBDDataset(Dataset):\n",
        "    def __init__(self, rgb_dir, csv_file, depth_dir, transform=None):\n",
        "        self.rgb_dir = rgb_dir\n",
        "        self.depth_dir = depth_dir\n",
        "        self.transform = transform\n",
        "\n",
        "        # Get list of filenames in the directories\n",
        "        self.rgb_files = sorted(os.listdir(rgb_dir))\n",
        "        self.depth_files = sorted(os.listdir(depth_dir))\n",
        "\n",
        "        # Ensure the number of RGB and depth images are the same\n",
        "        assert len(self.rgb_files) == len(self.depth_files), \"Number of RGB and depth images do not match\"\n",
        "        self.df = pd.read_csv(csv_file)\n",
        "\n",
        "    def __len__(self):\n",
        "        return len(self.rgb_files)\n",
        "\n",
        "    def __getitem__(self, idx):\n",
        "        # Load RGB and depth images\n",
        "        rgb_path = os.path.join(self.rgb_dir, self.rgb_files[idx])\n",
        "        depth_path = os.path.join(self.depth_dir, self.depth_files[idx])\n",
        "        rgb_img = Image.open(rgb_path).convert('RGB')\n",
        "        depth_img = Image.open(depth_path)\n",
        "        #Converting depth images to (0,1) range\n",
        "        depth_array = np.array(depth_img)\n",
        "        scaled_depth_array = (depth_array - depth_array.min()) / (depth_array.max() - depth_array.min()+1e-8)\n",
        "        depth_img = Image.fromarray(scaled_depth_array)\n",
        "\n",
        "\n",
        "        # Apply transformations if specified\n",
        "        if self.transform:\n",
        "            rgb_img = self.transform(rgb_img)\n",
        "            depth_img = self.transform(depth_img)\n",
        "\n",
        "        # Combine RGB and depth images into RGBD\n",
        "        rgbd_img = torch.cat((rgb_img, depth_img), dim=0)\n",
        "        # Get position and orientation values for all five sets\n",
        "        positions = []\n",
        "        orientations = []\n",
        "        for i in range(5):\n",
        "            idx_values = self.df.iloc[idx * 5 + i]\n",
        "            positions.append(torch.tensor(idx_values[['X', 'Y', 'Z']].values))\n",
        "            orientations.append(torch.tensor(idx_values[['x_q', 'y_q', 'z_q', 'w_q']].values))\n",
        "\n",
        "        positions = torch.stack(positions)  # Convert list of tensors to a single tensor\n",
        "        orientations = torch.stack(orientations)  # Convert list of tensors to a single tensor\n",
        "\n",
        "        return rgbd_img, positions, orientations\n",
        "\n",
        "\n",
        "# Define transforms\n",
        "transform = transforms.Compose([\n",
        "    transforms.Resize((512, 512)),  # Resize to match input size of CNN architecture if required\n",
        "    #transforms.CenterCrop(512), #if we want to use the exact image without losing aspect ratio\n",
        "    transforms.ToTensor(),  # Convert images to tensors\n",
        "])\n",
        "\n",
        "# Initialize dataset\n",
        "rgb_dir = '/content/drive/MyDrive/Masters_thesis/Dataset_1/dataset_1(depth=1,2)/rgb'\n",
        "depth_dir = '/content/drive/MyDrive/Masters_thesis/Dataset_1/dataset_1(depth=1,2)/depth'\n",
        "csv_file = '/content/drive/MyDrive/Masters_thesis/Dataset_1/merged_top_5_entries.csv'\n",
        "dataset = RGBDDataset(rgb_dir,csv_file, depth_dir, transform=transform)\n",
        "\n",
        "# Initialize DataLoader\n",
        "batch_size = 16\n",
        "dataloader = DataLoader(dataset, batch_size=batch_size, shuffle=True)\n",
        "\n",
        "print(f\"Length of val dataset loader:{len(dataloader)}\")\n",
        "a,b,c = (next(iter(dataloader)))\n",
        "print(a.shape)\n",
        "print(b.shape)\n",
        "print(c.shape)"
      ]
    },
    {
      "cell_type": "code",
      "source": [
        "device = torch.device(\"cuda\" if torch.cuda.is_available() else \"cpu\")"
      ],
      "metadata": {
        "id": "Tq8H0ZyO5kMh"
      },
      "execution_count": 2,
      "outputs": []
    },
    {
      "cell_type": "code",
      "source": [
        "import pandas as pd\n",
        "import torch\n",
        "\n",
        "class YourClassName:  # Make sure to replace 'YourClassName' with the actual class name\n",
        "    def __init__(self):\n",
        "        self.df = pd.read_csv('/content/drive/MyDrive/Masters_thesis/Dataset_1/merged_top_5_entries.csv')\n",
        "\n",
        "    def your_method_name(self, idx):\n",
        "        positions = []\n",
        "        orientations = []\n",
        "        for i in range(5):\n",
        "            idx_values = self.df.iloc[idx * 5 + i]\n",
        "            positions.append(torch.tensor(idx_values[['X', 'Y', 'Z']].values))\n",
        "            orientations.append(torch.tensor(idx_values[['x_q', 'y_q', 'z_q', 'w_q']].values))\n",
        "        return positions, orientations\n",
        "\n",
        "# Usage:\n",
        "your_instance = YourClassName()\n",
        "idx = 2000  # Example value for idx\n",
        "positions, orientations = your_instance.your_method_name(idx)\n",
        "print(positions)\n",
        "print(orientations)\n"
      ],
      "metadata": {
        "id": "0V3VDtVEbEw2",
        "outputId": "868724c9-3910-497e-dc59-0ebeaa0da489",
        "colab": {
          "base_uri": "https://localhost:8080/"
        }
      },
      "execution_count": null,
      "outputs": [
        {
          "output_type": "stream",
          "name": "stdout",
          "text": [
            "[tensor([-0.0057, -0.0916,  0.1387], dtype=torch.float64), tensor([-0.0105, -0.0661,  0.1243], dtype=torch.float64), tensor([-0.0631,  0.1167,  0.2778], dtype=torch.float64), tensor([-0.0239, -0.1040,  0.1898], dtype=torch.float64), tensor([-0.0046, -0.1293,  0.1048], dtype=torch.float64)]\n",
            "[tensor([-0.0492,  0.9567, -0.2395,  0.1582], dtype=torch.float64), tensor([ 0.0534,  0.1872, -0.0268,  0.9805], dtype=torch.float64), tensor([ 0.8014,  0.0837,  0.1378, -0.5760], dtype=torch.float64), tensor([ 3.2528e-02,  9.7336e-01, -2.2695e-01, -6.2641e-04],\n",
            "       dtype=torch.float64), tensor([-0.0118,  0.9868,  0.0361,  0.1577], dtype=torch.float64)]\n"
          ]
        }
      ]
    },
    {
      "cell_type": "markdown",
      "source": [
        "#Visualization block to see if the images are correctly loaded"
      ],
      "metadata": {
        "id": "BFiIYUt7Sywn"
      }
    },
    {
      "cell_type": "code",
      "source": [
        "import matplotlib.pyplot as plt\n",
        "\n",
        "# Extract a batch of images from the dataloader\n",
        "images_batch,  = next(iter(dataloader))\n",
        "\n",
        "# Define the number of images to visualize\n",
        "num_images = 4\n",
        "# Plot the images\n",
        "fig, axes = plt.subplots(2, num_images, figsize=(15, 5))\n",
        "\n",
        "# Loop through the images in the batch\n",
        "for i in range(num_images):\n",
        "    # Extract the RGB and depth images from the batch\n",
        "    rgb_img = images_batch[i, :3]  # RGB channels\n",
        "    depth_img = images_batch[i, 3]  # Depth channel\n",
        "\n",
        "    # Convert tensors to numpy arrays\n",
        "    rgb_img_np = rgb_img.permute(1, 2, 0).cpu().numpy()  # Permute dimensions and convert to numpy array\n",
        "    depth_img_np = depth_img.cpu().numpy()\n",
        "    # Plot RGB image\n",
        "    axes[0,i].imshow(rgb_img_np)\n",
        "    axes[0,i].set_title('RGB Image')\n",
        "    axes[0,i].axis('off')\n",
        "\n",
        "    # Plot depth image\n",
        "    axes[1,i].imshow(depth_img_np, cmap='gray', alpha=1)  # Overlay depth image with transparency\n",
        "    axes[1,i].set_title('D Image')\n",
        "    axes[1,i].axis('off')\n",
        "\n",
        "plt.show()"
      ],
      "metadata": {
        "colab": {
          "base_uri": "https://localhost:8080/",
          "height": 413
        },
        "id": "R0cWO031_m7Q",
        "outputId": "714030d3-bcca-431d-e835-511ae85eea20"
      },
      "execution_count": null,
      "outputs": [
        {
          "output_type": "display_data",
          "data": {
            "text/plain": [
              "<Figure size 1500x500 with 8 Axes>"
            ],
            "image/png": "[encoded data removed]"
          },
          "metadata": {}
        }
      ]
    },
    {
      "cell_type": "markdown",
      "source": [
        "#Helper functions:\n",
        "* Loss functions\n",
        "* Optimizer\n",
        "* Accuracy function\n",
        "* Maybe visualisation of results\n"
      ],
      "metadata": {
        "id": "EEEX4v_uv6Bh"
      }
    },
    {
      "cell_type": "code",
      "source": [
        "#Helper functions and Quaternion loss function\n",
        "import torch\n",
        "import torch.nn as nn\n",
        "\n",
        "def quaternion_loss(q_actual, q_predicted):\n",
        "    \"\"\"\n",
        "    Compute quaternion loss between actual and predicted quaternions.\n",
        "\n",
        "    Args:\n",
        "        q_actual (torch.Tensor): Actual quaternions (batch_size x num_outputs x 4).\n",
        "        q_predicted (torch.Tensor): Predicted quaternions (batch_size x num_outputs x 4).\n",
        "\n",
        "    Returns:\n",
        "        torch.Tensor: Quaternion loss.\n",
        "    \"\"\"\n",
        "    # Compute dot product\n",
        "    dot_product = torch.sum(q_actual * q_predicted, dim=2)\n",
        "\n",
        "    # Take absolute difference from 1\n",
        "    loss = 1 - torch.abs(dot_product)\n",
        "\n",
        "    return loss.mean()  # Return mean loss over the batch and number of outputs\n",
        "\n",
        "# Example usage:\n",
        "# Assuming positions and orientations are tensors of shape (batch_size, num_outputs, 3) and (batch_size, num_outputs, 4) respectively\n",
        "position_criterion = nn.MSELoss()  # Mean Squared Error for position\n",
        "\n",
        "# Calculate losses\n",
        "position_loss = position_criterion(positions, actual_positions)\n",
        "orientation_loss = quaternion_loss(orientations, actual_orientations)\n",
        "\n",
        "# Total loss\n",
        "total_loss = position_loss + orientation_loss\n",
        "\n",
        "# Backward pass and optimization\n",
        "optimizer.zero_grad()\n",
        "total_loss.backward()\n",
        "optimizer.step()\n"
      ],
      "metadata": {
        "id": "_GOFLHaSS0qf"
      },
      "execution_count": null,
      "outputs": []
    },
    {
      "cell_type": "markdown",
      "source": [],
      "metadata": {
        "id": "BXNgvuwgS2Ph"
      }
    },
    {
      "cell_type": "code",
      "source": [
        "#Vanilla CNN\n",
        "import torch\n",
        "import torch.nn as nn\n",
        "import torch.nn.functional as F\n",
        "\n",
        "class CNN_Position_Orientation(nn.Module):\n",
        "    def __init__(self, num_outputs=5):\n",
        "        super(CNN_Position_Orientation, self).__init__()\n",
        "        self.num_outputs = num_outputs\n",
        "\n",
        "        # Define convolutional layers for image processing\n",
        "        self.conv1 = nn.Conv2d(in_channels=4, out_channels=16, kernel_size=3, stride=1, padding=1)\n",
        "        self.conv2 = nn.Conv2d(in_channels=16, out_channels=32, kernel_size=3, stride=1, padding=1)\n",
        "        self.conv3 = nn.Conv2d(in_channels=32, out_channels=64, kernel_size=3, stride=1, padding=1)\n",
        "\n",
        "        # Define fully connected layers for position prediction\n",
        "        self.fc_position1 = nn.Linear(64 * 64 * 64, 512)\n",
        "        self.fc_position2 = nn.Linear(512, 3 * num_outputs)  # Output 5 sets of 3D positions\n",
        "\n",
        "        # Define fully connected layers for orientation prediction\n",
        "        #self.fc_orientation1 = nn.Linear(64 * 32 * 32, 512)\n",
        "        #self.fc_orientation2 = nn.Linear(512, 4 * num_outputs)  # Output 10 sets of quaternions\n",
        "\n",
        "    def forward(self, x):\n",
        "        # Forward pass through convolutional layers\n",
        "        x = F.relu(self.conv1(x))\n",
        "        x = F.max_pool2d(x, kernel_size=2, stride=2)\n",
        "        x = F.relu(self.conv2(x))\n",
        "        x = F.max_pool2d(x, kernel_size=2, stride=2)\n",
        "        x = F.relu(self.conv3(x))\n",
        "        x = F.max_pool2d(x, kernel_size=2, stride=2)\n",
        "\n",
        "        # Flatten the output for fully connected layers\n",
        "        x = x.view(x.size(0), -1)\n",
        "\n",
        "        # Position prediction\n",
        "        position = F.relu(self.fc_position1(x))\n",
        "        position = self.fc_position2(position)\n",
        "        position = position.view(-1, self.num_outputs, 3)  # Reshape to (batch_size, num_outputs, 3)\n",
        "\n",
        "        # Orientation prediction\n",
        "        #orientation = F.relu(self.fc_orientation1(x))\n",
        "        #orientation = self.fc_orientation2(orientation)\n",
        "        #orientation = orientation.view(-1, self.num_outputs, 4)  # Reshape to (batch_size, num_outputs, 4)\n",
        "\n",
        "        return position\n",
        "import torch\n",
        "\n",
        "def accuracy(predictions, targets, threshold=0.1):\n",
        "    \"\"\"\n",
        "    Calculate the accuracy based on Euclidean distance between predictions and targets.\n",
        "\n",
        "    Args:\n",
        "    - predictions (torch.Tensor): Predicted positions (batch_size, num_outputs, 3).\n",
        "    - targets (torch.Tensor): Actual positions (batch_size, num_outputs, 3).\n",
        "    - threshold (float): Maximum allowed Euclidean distance for a prediction to be considered accurate.\n",
        "\n",
        "    Returns:\n",
        "    - accuracy (float): Percentage of accurate predictions.\n",
        "    \"\"\"\n",
        "    batch_size, num_outputs, _ = predictions.size()\n",
        "    num_correct = 0\n",
        "\n",
        "    for i in range(batch_size):\n",
        "        for j in range(num_outputs):\n",
        "            pred = predictions[i, j]\n",
        "            target = targets[i, j]\n",
        "            distance = torch.norm(pred - target)  # Calculate Euclidean distance\n",
        "            if distance <= threshold:\n",
        "                num_correct += 1\n",
        "\n",
        "    total_predictions = batch_size * num_outputs\n",
        "    accuracy = (num_correct / total_predictions) * 100.0\n",
        "\n",
        "    return accuracy\n",
        "def calculate_accuracy(model, dataloader):\n",
        "    model.eval()  # Set the model to evaluation mode\n",
        "    total_accuracy = 0.0\n",
        "\n",
        "    with torch.no_grad():\n",
        "        for rgbd_images, positions, orientations in dataloader:\n",
        "            positions = positions.float()\n",
        "            outputs = model(rgbd_images)\n",
        "            batch_accuracy = accuracy(outputs, positions)  # Use the previously defined accuracy function\n",
        "            total_accuracy += batch_accuracy\n",
        "\n",
        "    model.train()  # Set the model back to training mode\n",
        "    return total_accuracy / len(dataloader.dataset)  # Return average accuracy\n",
        "\n",
        "# Example usage:\n",
        "# Instantiate the model\n",
        "model = CNN_Position_Orientation(num_outputs=5)\n",
        "\n",
        "# Assuming rgb_d_image is your input RGBD image tensor of shape (batch_size, channels, height, width)\n",
        "# Forward pass\n",
        "\n",
        "positions = model(a)\n",
        "print(positions.shape)\n",
        "# positions shape: (batch_size, num_outputs, 3)\n",
        "# orientations shape: (batch_size, num_outputs, 4)\n"
      ],
      "metadata": {
        "id": "pPKe-z1WSzKA",
        "colab": {
          "base_uri": "https://localhost:8080/"
        },
        "outputId": "952e2bb6-9f9c-411c-d0ee-31889ab2f98b"
      },
      "execution_count": 2,
      "outputs": [
        {
          "output_type": "stream",
          "name": "stdout",
          "text": [
            "torch.Size([16, 5, 3])\n"
          ]
        }
      ]
    },
    {
      "cell_type": "code",
      "source": [
        "import torch\n",
        "import torch.nn as nn\n",
        "import torch.optim as optim\n",
        "import torch.nn.functional as F\n",
        "\n",
        "# Define the training parameters\n",
        "epochs = 10\n",
        "learning_rate = 0.01\n",
        "\n",
        "# Initialize the model, loss function, and optimizer\n",
        "model = CNN_Position_Orientation(num_outputs=5)\n",
        "position_criterion = nn.MSELoss()\n",
        "optimizer = optim.Adam(model.parameters(), lr=learning_rate)\n",
        "\n",
        "# Training loop\n",
        "for epoch in range(epochs):\n",
        "    total_loss = 0.0\n",
        "    total_accuracy = 0.0\n",
        "    for batch_idx, (rgbd_images, positions, orientations) in enumerate(dataloader):\n",
        "        # Forward pass\n",
        "        positions= positions.float()\n",
        "        outputs = model(rgbd_images)\n",
        "\n",
        "        # Compute the loss\n",
        "        loss = position_criterion(outputs, positions)\n",
        "\n",
        "        # Backward pass and optimization\n",
        "        optimizer.zero_grad()\n",
        "        loss.backward()\n",
        "        optimizer.step()\n",
        "\n",
        "        # Print batch statistics\n",
        "        total_loss += loss.item()\n",
        "        if batch_idx % 10 == 9:  # Print every 10 batches\n",
        "            print('Epoch [{}/{}], Batch [{}/{}], Loss: {:.4f}'\n",
        "                  .format(epoch+1, epochs, batch_idx+1, len(dataloader), total_loss / 10))\n",
        "            total_loss = 0.0\n",
        "        # Calculate accuracy after each epoch\n",
        "    epoch_accuracy = calculate_accuracy(model, dataloader)\n",
        "    print('Epoch [{}/{}], Accuracy: {:.2f}%'.format(epoch+1, epochs, epoch_accuracy))\n",
        "    total_accuracy += epoch_accuracy\n",
        "\n",
        "print('Training finished!')\n"
      ],
      "metadata": {
        "id": "oDuM47Eh6xDR"
      },
      "execution_count": null,
      "outputs": []
    }
  ]
}